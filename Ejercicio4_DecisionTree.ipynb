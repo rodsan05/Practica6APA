{
 "cells": [
  {
   "cell_type": "code",
   "execution_count": 1,
   "id": "66bf2acb",
   "metadata": {},
   "outputs": [
    {
     "name": "stdout",
     "output_type": "stream",
     "text": [
      "DecisionTree\n"
     ]
    },
    {
     "data": {
      "image/png": "[encoded data removed]",
      "text/plain": [
       "<Figure size 640x480 with 1 Axes>"
      ]
     },
     "metadata": {},
     "output_type": "display_data"
    },
    {
     "name": "stdout",
     "output_type": "stream",
     "text": [
      "Accuracy: 0.725609756097561\n",
      "Precision: 0.7275951872338363\n",
      "Recall: 0.725609756097561\n",
      "\n",
      "Confusion Matrix:\n",
      "[[615 188  25]\n",
      " [162 414   4]\n",
      " [ 21   5  42]]\n",
      "\n",
      "\n",
      "RandomForest\n",
      "------------------------------------\n",
      "Accuracy: 0.7710027100271003\n",
      "Precision: 0.7711891409126571\n",
      "Recall: 0.7710027100271003\n",
      "\n",
      "Confusion Matrix:\n",
      "[[665 153  10]\n",
      " [141 438   1]\n",
      " [ 27   6  35]]\n"
     ]
    }
   ],
   "source": [
    "import pandas as pd\n",
    "import numpy as np\n",
    "from scipy.stats import randint\n",
    "from sklearn.tree import DecisionTreeClassifier\n",
    "from sklearn.ensemble import RandomForestClassifier\n",
    "from sklearn.model_selection import train_test_split\n",
    "from sklearn.model_selection import cross_val_score\n",
    "from sklearn.model_selection import RandomizedSearchCV\n",
    "from sklearn.metrics import accuracy_score\n",
    "from sklearn.metrics import precision_score\n",
    "from sklearn.metrics import recall_score\n",
    "from sklearn.metrics import confusion_matrix\n",
    "import matplotlib.pyplot as plt\n",
    "\n",
    "path = \"dataset/normalized/\"\n",
    "\n",
    "df = pd.read_csv(path + \"kart.csv\")\n",
    "\n",
    "# Split the data into features (X) and target (y)\n",
    "X = df.drop('action', axis=1)\n",
    "y = df['action']\n",
    "\n",
    "# Split the data into training and test sets\n",
    "X_train, X_test, y_train, y_test = train_test_split(X, y, test_size=0.2)\n",
    "\n",
    "print(\"DecisionTree\")\n",
    "criterion_values = [\"gini\", \"entropy\", \"log_loss\"]\n",
    "scores = []\n",
    "for criterion in criterion_values:\n",
    "    clf = DecisionTreeClassifier(criterion=criterion)\n",
    "    score = cross_val_score(clf, X, y, cv=5)\n",
    "    scores.append(np.mean(score))\n",
    "    \n",
    "scatter = plt.scatter(x=criterion_values, y=scores, marker='o')\n",
    "plt.xlabel(\"Criterion\")\n",
    "plt.ylabel(\"Accuracy Score\")\n",
    "plt.show()\n",
    "\n",
    "# Create Decision Tree classifer object\n",
    "clf = DecisionTreeClassifier(criterion=criterion_values[np.argmax(scores)])\n",
    "\n",
    "# Train Decision Tree Classifer\n",
    "clf = clf.fit(X_train,y_train)\n",
    "\n",
    "# Metricas\n",
    "y_pred = clf.predict(X_test)\n",
    "\n",
    "accuracy = accuracy_score(y_test, y_pred)\n",
    "precision = precision_score(y_test, y_pred, average='weighted', zero_division=1)\n",
    "recall = recall_score(y_test, y_pred, average='weighted')\n",
    "conf_matrix = confusion_matrix(y_test, y_pred)\n",
    "\n",
    "print(\"Accuracy:\", accuracy)\n",
    "print(\"Precision:\", precision)\n",
    "print(\"Recall:\", recall)\n",
    "print(\"\\nConfusion Matrix:\")\n",
    "print(conf_matrix)\n",
    "\n",
    "print(\"\\n\\nRandomForest\")\n",
    "print(\"------------------------------------\")\n",
    "\n",
    "rf = RandomForestClassifier(max_depth=11, n_estimators=297)\n",
    "rf.fit(X_train, y_train)\n",
    "\n",
    "# Metricas\n",
    "y_pred = rf.predict(X_test)\n",
    "\n",
    "accuracy = accuracy_score(y_test, y_pred)\n",
    "precision = precision_score(y_test, y_pred, average='weighted', zero_division=1)\n",
    "recall = recall_score(y_test, y_pred, average='weighted')\n",
    "conf_matrix = confusion_matrix(y_test, y_pred)\n",
    "\n",
    "print(\"Accuracy:\", accuracy)\n",
    "print(\"Precision:\", precision)\n",
    "print(\"Recall:\", recall)\n",
    "print(\"\\nConfusion Matrix:\")\n",
    "print(conf_matrix)"
   ]
  }
 ],
 "metadata": {
  "kernelspec": {
   "display_name": "Python 3 (ipykernel)",
   "language": "python",
   "name": "python3"
  },
  "language_info": {
   "codemirror_mode": {
    "name": "ipython",
    "version": 3
   },
   "file_extension": ".py",
   "mimetype": "text/x-python",
   "name": "python",
   "nbconvert_exporter": "python",
   "pygments_lexer": "ipython3",
   "version": "3.11.4"
  }
 },
 "nbformat": 4,
 "nbformat_minor": 5
}
